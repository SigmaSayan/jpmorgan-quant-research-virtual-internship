{
 "cells": [
  {
   "cell_type": "code",
   "execution_count": 9,
   "id": "4be64bd8-6cc9-4673-b7e2-26cf33da496f",
   "metadata": {},
   "outputs": [
    {
     "name": "stdin",
     "output_type": "stream",
     "text": [
      "Enter the injection dates (comma-separated YYYY-MM-DD):  2024-05-01,2024-06-01\n",
      "Enter the corresponding injection prices (comma-separated, in $/MMBtu):  2,2.9\n",
      "Enter the withdrawal dates (comma-separated YYYY-MM-DD):  2024-07-01,2024-09-01\n",
      "Enter the corresponding withdrawal prices (comma-separated, in $/MMBtu):  2.9,3.5\n",
      "Enter the rate at which the gas is injected/withdrawn (in million MMBtu):  1\n",
      "Enter the injection/withdrawal cost (in $ per 1 million MMBtu):  10000\n",
      "Enter the storage costs (Per month in $):  100000\n",
      "Enter the maximum volume that can be stored (in million MMBtu):  2\n"
     ]
    },
    {
     "name": "stdout",
     "output_type": "stream",
     "text": [
      "Injected gas on 2024-05-01 at price $2.0\n",
      "Injected gas on 2024-06-01 at price $2.9\n",
      "Withdrawn gas on 2024-07-01 at price $2.9\n",
      "Withdrawn gas on 2024-09-01 at price $3.5\n",
      "\n",
      "The value of the contract is: $1056666.67\n"
     ]
    }
   ],
   "source": [
    "from datetime import datetime\n",
    "import calendar\n",
    "import math\n",
    "\n",
    "def calculate_precise_months(d1, d2):\n",
    "    if d1 > d2:\n",
    "        d1, d2 = d2, d1\n",
    "    if d1.year == d2.year and d1.month == d2.month:\n",
    "        days_in_month = calendar.monthrange(d1.year, d1.month)[1]\n",
    "        return (d2 - d1).days / days_in_month\n",
    "    else:\n",
    "        days_in_start_month = calendar.monthrange(d1.year, d1.month)[1]\n",
    "        start_fraction = (days_in_start_month - d1.day + 1) / days_in_start_month\n",
    "        days_in_end_month = calendar.monthrange(d2.year, d2.month)[1]\n",
    "        end_fraction = d2.day / days_in_end_month\n",
    "        full_months = (d2.year - d1.year) * 12 + (d2.month - d1.month) - 1\n",
    "        full_months = max(full_months, 0)\n",
    "        return start_fraction + full_months + end_fraction\n",
    "\n",
    "# Input handling\n",
    "injection_dates = input(\"Enter the injection dates (comma-separated YYYY-MM-DD): \").split(',')\n",
    "injection_prices = list(map(float, input(\"Enter the corresponding injection prices (comma-separated, in $/MMBtu): \").split(',')))\n",
    "withdrawal_dates = input(\"Enter the withdrawal dates (comma-separated YYYY-MM-DD): \").split(',')\n",
    "withdrawal_prices = list(map(float, input(\"Enter the corresponding withdrawal prices (comma-separated, in $/MMBtu): \").split(',')))\n",
    "\n",
    "rate = float(input(\"Enter the rate at which the gas is injected/withdrawn (in million MMBtu): \"))\n",
    "injection_withdrawal_cost = float(input(\"Enter the injection/withdrawal cost (in $ per 1 million MMBtu): \"))\n",
    "storage_cost_rate = float(input(\"Enter the storage costs (Per month in $): \"))\n",
    "max_volume = float(input(\"Enter the maximum volume that can be stored (in million MMBtu): \"))\n",
    "\n",
    "# Convert dates\n",
    "in_dates = [datetime.strptime(d.strip(), \"%Y-%m-%d\") for d in injection_dates]\n",
    "out_dates = [datetime.strptime(d.strip(), \"%Y-%m-%d\") for d in withdrawal_dates]\n",
    "\n",
    "# Ensure chronological order\n",
    "all_dates = sorted(set(in_dates + out_dates))\n",
    "volume = 0\n",
    "buy_cost = 0\n",
    "cash_in = 0\n",
    "\n",
    "for current_date in all_dates:\n",
    "    if current_date in in_dates:\n",
    "        idx = in_dates.index(current_date)\n",
    "        if volume + rate <= max_volume:\n",
    "            volume += rate\n",
    "            price = injection_prices[idx]\n",
    "            buy_cost += rate * 1000000 * price + rate * injection_withdrawal_cost\n",
    "            print(f\"Injected gas on {current_date.date()} at price ${price}\")\n",
    "        else:\n",
    "            print(f\"Injection is not possible on {current_date.date()} due to insufficient space.\")\n",
    "    elif current_date in out_dates:\n",
    "        idx = out_dates.index(current_date)\n",
    "        if volume >= rate:\n",
    "            volume -= rate\n",
    "            price = withdrawal_prices[idx]\n",
    "            cash_in += rate * 1000000 * price - rate * injection_withdrawal_cost\n",
    "            print(f\"Withdrawn gas on {current_date.date()} at price ${price}\")\n",
    "        else:\n",
    "            print(f\"Withdrawal is not possible on {current_date.date()} due to insufficient stored volume.\")\n",
    "\n",
    "# Calculate precise storage cost\n",
    "total_months = calculate_precise_months(min(in_dates), max(out_dates))\n",
    "storage_cost = total_months * storage_cost_rate\n",
    "\n",
    "contract_value = cash_in - buy_cost - storage_cost\n",
    "\n",
    "print(f\"\\nThe value of the contract is: ${contract_value:.2f}\")"
   ]
  },
  {
   "cell_type": "code",
   "execution_count": null,
   "id": "72140959-5682-4ae4-8275-4fc6a8ee726d",
   "metadata": {},
   "outputs": [],
   "source": []
  }
 ],
 "metadata": {
  "kernelspec": {
   "display_name": "Python 3 (ipykernel)",
   "language": "python",
   "name": "python3"
  },
  "language_info": {
   "codemirror_mode": {
    "name": "ipython",
    "version": 3
   },
   "file_extension": ".py",
   "mimetype": "text/x-python",
   "name": "python",
   "nbconvert_exporter": "python",
   "pygments_lexer": "ipython3",
   "version": "3.11.5"
  }
 },
 "nbformat": 4,
 "nbformat_minor": 5
}
